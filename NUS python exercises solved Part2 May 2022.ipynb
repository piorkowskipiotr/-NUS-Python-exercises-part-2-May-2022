{
 "cells": [
  {
   "cell_type": "code",
   "execution_count": 2,
   "id": "bc8620ee",
   "metadata": {},
   "outputs": [
    {
     "name": "stdout",
     "output_type": "stream",
     "text": [
      "Requirement already satisfied: exbook in c:\\users\\pipio\\anaconda3\\lib\\site-packages (0.0.3)\n"
     ]
    }
   ],
   "source": [
    "!pip install exbook"
   ]
  },
  {
   "cell_type": "code",
   "execution_count": 7,
   "id": "8a973939",
   "metadata": {},
   "outputs": [
    {
     "data": {
      "text/plain": [
       "36"
      ]
     },
     "execution_count": 7,
     "metadata": {},
     "output_type": "execute_result"
    }
   ],
   "source": [
    "from exbook import book as eb\n",
    "len(eb)"
   ]
  },
  {
   "cell_type": "code",
   "execution_count": 3,
   "id": "a409de8d",
   "metadata": {},
   "outputs": [
    {
     "name": "stdout",
     "output_type": "stream",
     "text": [
      "Create a function to convert a list of scores to grades. Grade \"A\" accounts \n",
      "for scores no lower than 90; grade \"B\" accounts for scores between 80 to 89; \n",
      "and grade \"C\" accounts for scores between 70 and 79; scores lower than 70 \n",
      "are recorded as \"D\". For example, if the input is [85.5, 92, 45, 74, 79], \n",
      "then the output is [\"B\", \"A\", \"D\", \"C\", \"C\"]. \n"
     ]
    },
    {
     "data": {
      "text/html": [
       "<div>\n",
       "<style scoped>\n",
       "    .dataframe tbody tr th:only-of-type {\n",
       "        vertical-align: middle;\n",
       "    }\n",
       "\n",
       "    .dataframe tbody tr th {\n",
       "        vertical-align: top;\n",
       "    }\n",
       "\n",
       "    .dataframe thead th {\n",
       "        text-align: right;\n",
       "    }\n",
       "</style>\n",
       "<table border=\"1\" class=\"dataframe\">\n",
       "  <thead>\n",
       "    <tr style=\"text-align: right;\">\n",
       "      <th></th>\n",
       "      <th>Input1: list</th>\n",
       "      <th>Output: list</th>\n",
       "    </tr>\n",
       "  </thead>\n",
       "  <tbody>\n",
       "    <tr>\n",
       "      <th>Test 1:</th>\n",
       "      <td>[85.5, 92, 45, 74, 79]</td>\n",
       "      <td>['B', 'A', 'D', 'C', 'C']</td>\n",
       "    </tr>\n",
       "  </tbody>\n",
       "</table>\n",
       "</div>"
      ],
      "text/plain": [
       "                   Input1: list               Output: list\n",
       "Test 1:  [85.5, 92, 45, 74, 79]  ['B', 'A', 'D', 'C', 'C']"
      ]
     },
     "metadata": {},
     "output_type": "display_data"
    },
    {
     "name": "stdout",
     "output_type": "stream",
     "text": [
      "\n",
      "\u001b[1mGrade: Easy\u001b[0;0m \n",
      "\n"
     ]
    }
   ],
   "source": [
    "print(eb[18])"
   ]
  },
  {
   "cell_type": "code",
   "execution_count": 7,
   "id": "bc55ac39",
   "metadata": {},
   "outputs": [
    {
     "data": {
      "text/plain": [
       "['B', 'A', 'D', 'C', 'C']"
      ]
     },
     "execution_count": 7,
     "metadata": {},
     "output_type": "execute_result"
    }
   ],
   "source": [
    "def scores(lista):\n",
    "    scores_output = []\n",
    "    for x in lista:\n",
    "        if x >= 90:\n",
    "            scores_output.append(\"A\")\n",
    "        elif x >=80:\n",
    "            scores_output.append(\"B\")\n",
    "        elif x >=70:   \n",
    "            scores_output.append(\"C\")\n",
    "        else:\n",
    "            scores_output.append(\"D\")\n",
    "    return(scores_output)\n",
    "            \n",
    "            \n",
    "scores([85.5, 92, 45, 74, 79])"
   ]
  },
  {
   "cell_type": "code",
   "execution_count": 8,
   "id": "7f1185e5",
   "metadata": {},
   "outputs": [
    {
     "name": "stdout",
     "output_type": "stream",
     "text": [
      "Create a function to grade bubble cards. The first input argument is list of \n",
      "answers to be graded, and the second input argument is a list of correct \n",
      "answers. The function compares these two lists, and returns the proportion \n",
      "of answers to be correct. For example, if the inputs are [\"A\", \"C\", \"B\", \"D\", \n",
      "\"A\", \"D\"] and [\"A\", \"B\", \"C\", \"D\", \"D\", \"D\"], then the output is 0.5 because \n",
      "half of the values are the same in these two lists.\n"
     ]
    },
    {
     "data": {
      "text/html": [
       "<div>\n",
       "<style scoped>\n",
       "    .dataframe tbody tr th:only-of-type {\n",
       "        vertical-align: middle;\n",
       "    }\n",
       "\n",
       "    .dataframe tbody tr th {\n",
       "        vertical-align: top;\n",
       "    }\n",
       "\n",
       "    .dataframe thead th {\n",
       "        text-align: right;\n",
       "    }\n",
       "</style>\n",
       "<table border=\"1\" class=\"dataframe\">\n",
       "  <thead>\n",
       "    <tr style=\"text-align: right;\">\n",
       "      <th></th>\n",
       "      <th>Input1: list</th>\n",
       "      <th>Input2: list</th>\n",
       "      <th>Output: float</th>\n",
       "    </tr>\n",
       "  </thead>\n",
       "  <tbody>\n",
       "    <tr>\n",
       "      <th>Test 1:</th>\n",
       "      <td>['A', 'C', 'B', 'D', 'A', 'D']</td>\n",
       "      <td>['A', 'B', 'C', 'D', 'D', 'D']</td>\n",
       "      <td>0.5</td>\n",
       "    </tr>\n",
       "    <tr>\n",
       "      <th>Test 2:</th>\n",
       "      <td>['A', 'B', 'C', 'D', 'D', 'D']</td>\n",
       "      <td>['A', 'B', 'C', 'D', 'D', 'D']</td>\n",
       "      <td>1.0</td>\n",
       "    </tr>\n",
       "  </tbody>\n",
       "</table>\n",
       "</div>"
      ],
      "text/plain": [
       "                           Input1: list                    Input2: list  \\\n",
       "Test 1:  ['A', 'C', 'B', 'D', 'A', 'D']  ['A', 'B', 'C', 'D', 'D', 'D']   \n",
       "Test 2:  ['A', 'B', 'C', 'D', 'D', 'D']  ['A', 'B', 'C', 'D', 'D', 'D']   \n",
       "\n",
       "        Output: float  \n",
       "Test 1:           0.5  \n",
       "Test 2:           1.0  "
      ]
     },
     "metadata": {},
     "output_type": "display_data"
    },
    {
     "name": "stdout",
     "output_type": "stream",
     "text": [
      "\n",
      "\u001b[1mBubble Card: Easy\u001b[0;0m \n",
      "\n"
     ]
    }
   ],
   "source": [
    "print(eb[19])"
   ]
  },
  {
   "cell_type": "code",
   "execution_count": 4,
   "id": "528da97a",
   "metadata": {},
   "outputs": [
    {
     "name": "stdout",
     "output_type": "stream",
     "text": [
      "1.0\n"
     ]
    }
   ],
   "source": [
    "#can do comparisons of lengths of two lists\n",
    "#then go by indexing if it is the same length\n",
    "\n",
    "def checkingo(x,y):\n",
    "    if len(x) != len(y):\n",
    "        print(\"lists are not the same, restart with correct/same length lists\")\n",
    "    else:\n",
    "        correct = 0\n",
    "        for z in range(0,len(x)):\n",
    "            if x[z] == y[z]:\n",
    "                correct = correct+1\n",
    "        print(correct/len(x))        \n",
    "        \n",
    "        \n",
    "checkingo(['A', 'B', 'C', 'D', 'D', 'D'],['A', 'B', 'C', 'D', 'D', 'D'] )"
   ]
  },
  {
   "cell_type": "code",
   "execution_count": 8,
   "id": "a9c65720",
   "metadata": {},
   "outputs": [
    {
     "name": "stdout",
     "output_type": "stream",
     "text": [
      "For a sequence of numbers in a list, create a new list containing the \n",
      "squares of all non-negative numbers, and cubes of all negative numbers. \n",
      "For example, if the input is [1, 2, 3, -4, -5, 6], then the output is \n",
      "[1, 4, 9, -64, -125, 36]. As a practice, please use list comprehension.\n"
     ]
    },
    {
     "data": {
      "text/html": [
       "<div>\n",
       "<style scoped>\n",
       "    .dataframe tbody tr th:only-of-type {\n",
       "        vertical-align: middle;\n",
       "    }\n",
       "\n",
       "    .dataframe tbody tr th {\n",
       "        vertical-align: top;\n",
       "    }\n",
       "\n",
       "    .dataframe thead th {\n",
       "        text-align: right;\n",
       "    }\n",
       "</style>\n",
       "<table border=\"1\" class=\"dataframe\">\n",
       "  <thead>\n",
       "    <tr style=\"text-align: right;\">\n",
       "      <th></th>\n",
       "      <th>Input1: list</th>\n",
       "      <th>Output: list</th>\n",
       "    </tr>\n",
       "  </thead>\n",
       "  <tbody>\n",
       "    <tr>\n",
       "      <th>Test 1:</th>\n",
       "      <td>[1, 2, 3, -4, -5, 6]</td>\n",
       "      <td>[1, 4, 9, -64, -125, 36]</td>\n",
       "    </tr>\n",
       "  </tbody>\n",
       "</table>\n",
       "</div>"
      ],
      "text/plain": [
       "                 Input1: list              Output: list\n",
       "Test 1:  [1, 2, 3, -4, -5, 6]  [1, 4, 9, -64, -125, 36]"
      ]
     },
     "metadata": {},
     "output_type": "display_data"
    },
    {
     "name": "stdout",
     "output_type": "stream",
     "text": [
      "\n",
      "\u001b[1mSquares And Cubes: Easy\u001b[0;0m \n",
      "\n"
     ]
    }
   ],
   "source": [
    "print(eb[20])"
   ]
  },
  {
   "cell_type": "code",
   "execution_count": 11,
   "id": "7022c992",
   "metadata": {},
   "outputs": [
    {
     "data": {
      "text/plain": [
       "[1, 4, 9, -64, -125, 36]"
      ]
     },
     "execution_count": 11,
     "metadata": {},
     "output_type": "execute_result"
    }
   ],
   "source": [
    "def listoni(x):\n",
    "    output=[]\n",
    "    for z in x:\n",
    "        if z>0:\n",
    "            output.append(z*z)\n",
    "        else:\n",
    "            output.append(z*z*z)\n",
    "            \n",
    "    return(output)\n",
    "\n",
    "listoni([1,2,3,-4,-5,6])"
   ]
  },
  {
   "cell_type": "code",
   "execution_count": 12,
   "id": "d2467ab3",
   "metadata": {},
   "outputs": [
    {
     "data": {
      "text/plain": [
       "[1, 4, 9, -64, -125, 36]"
      ]
     },
     "execution_count": 12,
     "metadata": {},
     "output_type": "execute_result"
    }
   ],
   "source": [
    "def listoni(x):\n",
    "    output=[]\n",
    "    output = [z*z if z>0 else z*z*z for z in x]\n",
    "    return(output)\n",
    "\n",
    "listoni([1,2,3,-4,-5,6])"
   ]
  },
  {
   "cell_type": "code",
   "execution_count": null,
   "id": "e036662e",
   "metadata": {},
   "outputs": [],
   "source": []
  }
 ],
 "metadata": {
  "kernelspec": {
   "display_name": "Python 3 (ipykernel)",
   "language": "python",
   "name": "python3"
  },
  "language_info": {
   "codemirror_mode": {
    "name": "ipython",
    "version": 3
   },
   "file_extension": ".py",
   "mimetype": "text/x-python",
   "name": "python",
   "nbconvert_exporter": "python",
   "pygments_lexer": "ipython3",
   "version": "3.9.7"
  }
 },
 "nbformat": 4,
 "nbformat_minor": 5
}
